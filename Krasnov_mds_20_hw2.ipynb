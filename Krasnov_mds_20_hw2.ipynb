{
  "nbformat": 4,
  "nbformat_minor": 0,
  "metadata": {
    "colab": {
      "name": "Krasnov_mds20_hw2.ipynb",
      "provenance": []
    },
    "kernelspec": {
      "name": "python3",
      "display_name": "Python 3"
    },
    "language_info": {
      "name": "python"
    }
  },
  "cells": [
    {
      "cell_type": "code",
      "execution_count": 1,
      "metadata": {
        "id": "NarzQdbEmmCp"
      },
      "outputs": [],
      "source": [
        "import numpy as np"
      ]
    },
    {
      "cell_type": "markdown",
      "source": [
        "Задание 1.\n",
        "\n",
        "Создайте случайную матрицу А размерностью 5 на 5. Вычислить транспонированную матрицу At и найти обратную матрицу A(-1) Найдите определитель и ранг каждой полученной матрицы."
      ],
      "metadata": {
        "id": "ClRe4tT9cMne"
      }
    },
    {
      "cell_type": "code",
      "source": [
        "A1 = np.random.random((5,5))\n",
        "A1"
      ],
      "metadata": {
        "colab": {
          "base_uri": "https://localhost:8080/"
        },
        "id": "SsmxA65frTEA",
        "outputId": "b614af24-dcdd-4080-f904-71aab0d8ac29"
      },
      "execution_count": 2,
      "outputs": [
        {
          "output_type": "execute_result",
          "data": {
            "text/plain": [
              "array([[0.06428066, 0.84342501, 0.65809975, 0.42365914, 0.40696462],\n",
              "       [0.41959513, 0.34228511, 0.31132459, 0.56009397, 0.89631573],\n",
              "       [0.57944621, 0.09620873, 0.76652172, 0.5676024 , 0.17801365],\n",
              "       [0.09261615, 0.58659601, 0.24168896, 0.12009287, 0.57830323],\n",
              "       [0.61717779, 0.81014875, 0.5098137 , 0.59811847, 0.0510685 ]])"
            ]
          },
          "metadata": {},
          "execution_count": 2
        }
      ]
    },
    {
      "cell_type": "code",
      "source": [
        "A2 = np.transpose(A1) #транспонированная матрица\n",
        "A2"
      ],
      "metadata": {
        "colab": {
          "base_uri": "https://localhost:8080/"
        },
        "id": "l99S9RCsBu84",
        "outputId": "e8f2dfca-b572-4963-8bf2-1b8076f595bb"
      },
      "execution_count": 3,
      "outputs": [
        {
          "output_type": "execute_result",
          "data": {
            "text/plain": [
              "array([[0.06428066, 0.41959513, 0.57944621, 0.09261615, 0.61717779],\n",
              "       [0.84342501, 0.34228511, 0.09620873, 0.58659601, 0.81014875],\n",
              "       [0.65809975, 0.31132459, 0.76652172, 0.24168896, 0.5098137 ],\n",
              "       [0.42365914, 0.56009397, 0.5676024 , 0.12009287, 0.59811847],\n",
              "       [0.40696462, 0.89631573, 0.17801365, 0.57830323, 0.0510685 ]])"
            ]
          },
          "metadata": {},
          "execution_count": 3
        }
      ]
    },
    {
      "cell_type": "code",
      "source": [
        "np.linalg.det(A2) #определитель транспонированной матрицы"
      ],
      "metadata": {
        "colab": {
          "base_uri": "https://localhost:8080/"
        },
        "id": "xVKY2o_3CbLI",
        "outputId": "e1ebbea9-de4f-4b88-cb72-112442fadc41"
      },
      "execution_count": 4,
      "outputs": [
        {
          "output_type": "execute_result",
          "data": {
            "text/plain": [
              "-0.07201846922891224"
            ]
          },
          "metadata": {},
          "execution_count": 4
        }
      ]
    },
    {
      "cell_type": "code",
      "source": [
        "np.linalg.matrix_rank(A2) #ранг транспонированной матрицы"
      ],
      "metadata": {
        "colab": {
          "base_uri": "https://localhost:8080/"
        },
        "id": "3sAtiBO9FEk-",
        "outputId": "861a944d-7e64-4676-f71a-7b089ad683cd"
      },
      "execution_count": 5,
      "outputs": [
        {
          "output_type": "execute_result",
          "data": {
            "text/plain": [
              "5"
            ]
          },
          "metadata": {},
          "execution_count": 5
        }
      ]
    },
    {
      "cell_type": "code",
      "source": [
        "A3 = np.linalg.inv(A1) #обратная матрица\n",
        "A3"
      ],
      "metadata": {
        "colab": {
          "base_uri": "https://localhost:8080/"
        },
        "id": "K7DmhuvZJlVm",
        "outputId": "6cb4b853-421f-465e-cbe0-386bcde91d39"
      },
      "execution_count": 6,
      "outputs": [
        {
          "output_type": "execute_result",
          "data": {
            "text/plain": [
              "array([[-2.60061022, -0.73933776,  1.03285124,  2.56632909,  1.03896514],\n",
              "       [ 0.13052497, -0.41812216, -0.73064565,  0.70598099,  0.85070528],\n",
              "       [ 0.40942133, -1.27914824,  1.74141458,  1.246261  , -0.99497013],\n",
              "       [ 2.1868363 ,  2.36958794, -1.5753717 , -4.75791865,  0.3542973 ],\n",
              "       [-0.34114107,  0.58503702,  0.17507313,  1.06929272, -0.68704538]])"
            ]
          },
          "metadata": {},
          "execution_count": 6
        }
      ]
    },
    {
      "cell_type": "code",
      "source": [
        "np.linalg.det(A3) #определитель обратной матрицы"
      ],
      "metadata": {
        "colab": {
          "base_uri": "https://localhost:8080/"
        },
        "id": "WN2VeBaSKW2i",
        "outputId": "76d094d4-b52d-4f8f-9d70-021930cfde2e"
      },
      "execution_count": 7,
      "outputs": [
        {
          "output_type": "execute_result",
          "data": {
            "text/plain": [
              "-13.8853270654987"
            ]
          },
          "metadata": {},
          "execution_count": 7
        }
      ]
    },
    {
      "cell_type": "code",
      "source": [
        "np.linalg.matrix_rank(A3) #ранг обратной матрицы"
      ],
      "metadata": {
        "colab": {
          "base_uri": "https://localhost:8080/"
        },
        "id": "uysmf2ujKDGh",
        "outputId": "874769af-5ad5-4421-91ef-30585c12fd24"
      },
      "execution_count": 8,
      "outputs": [
        {
          "output_type": "execute_result",
          "data": {
            "text/plain": [
              "5"
            ]
          },
          "metadata": {},
          "execution_count": 8
        }
      ]
    },
    {
      "cell_type": "markdown",
      "source": [
        "Задание 2.\n",
        "\n",
        "Создайте диагональную матрицу, поэлементно перемножив единичную матрицу I и случайную матрицу  А2 размерности 6 на 6. Найдите определитель и ранг полученной матрицы."
      ],
      "metadata": {
        "id": "gl4_FqMjKnMI"
      }
    },
    {
      "cell_type": "code",
      "source": [
        "I = np.eye(6,6) #единичная матрица\n",
        "I"
      ],
      "metadata": {
        "colab": {
          "base_uri": "https://localhost:8080/"
        },
        "id": "NiRGkUsJIBPR",
        "outputId": "0f115927-5ec3-480a-94ce-4e586f5009e5"
      },
      "execution_count": 9,
      "outputs": [
        {
          "output_type": "execute_result",
          "data": {
            "text/plain": [
              "array([[1., 0., 0., 0., 0., 0.],\n",
              "       [0., 1., 0., 0., 0., 0.],\n",
              "       [0., 0., 1., 0., 0., 0.],\n",
              "       [0., 0., 0., 1., 0., 0.],\n",
              "       [0., 0., 0., 0., 1., 0.],\n",
              "       [0., 0., 0., 0., 0., 1.]])"
            ]
          },
          "metadata": {},
          "execution_count": 9
        }
      ]
    },
    {
      "cell_type": "code",
      "source": [
        "A4 = np.random.random((6,6)) #случайная матрица\n",
        "A4"
      ],
      "metadata": {
        "colab": {
          "base_uri": "https://localhost:8080/"
        },
        "id": "nIVFMcqoIj44",
        "outputId": "4cede9ec-c37d-421b-f325-6b4880d72c74"
      },
      "execution_count": 10,
      "outputs": [
        {
          "output_type": "execute_result",
          "data": {
            "text/plain": [
              "array([[0.13515581, 0.27090197, 0.95402929, 0.65434331, 0.6875536 ,\n",
              "        0.12281329],\n",
              "       [0.06635344, 0.88443842, 0.85230013, 0.00745762, 0.48256811,\n",
              "        0.18878209],\n",
              "       [0.19538337, 0.21113929, 0.56857068, 0.24870683, 0.73123307,\n",
              "        0.71181953],\n",
              "       [0.5353689 , 0.85461439, 0.91920404, 0.54935872, 0.48556216,\n",
              "        0.09470599],\n",
              "       [0.70651815, 0.06357107, 0.10902566, 0.12690722, 0.42674908,\n",
              "        0.54438988],\n",
              "       [0.84897713, 0.51751443, 0.60094643, 0.73533412, 0.6824757 ,\n",
              "        0.9828251 ]])"
            ]
          },
          "metadata": {},
          "execution_count": 10
        }
      ]
    },
    {
      "cell_type": "code",
      "source": [
        "I * A4 #получение диагональной матрицы"
      ],
      "metadata": {
        "colab": {
          "base_uri": "https://localhost:8080/"
        },
        "id": "NzkznJ-dIOUw",
        "outputId": "e80fffcb-ff5a-4d11-fbd1-05cbc62796ac"
      },
      "execution_count": 11,
      "outputs": [
        {
          "output_type": "execute_result",
          "data": {
            "text/plain": [
              "array([[0.13515581, 0.        , 0.        , 0.        , 0.        ,\n",
              "        0.        ],\n",
              "       [0.        , 0.88443842, 0.        , 0.        , 0.        ,\n",
              "        0.        ],\n",
              "       [0.        , 0.        , 0.56857068, 0.        , 0.        ,\n",
              "        0.        ],\n",
              "       [0.        , 0.        , 0.        , 0.54935872, 0.        ,\n",
              "        0.        ],\n",
              "       [0.        , 0.        , 0.        , 0.        , 0.42674908,\n",
              "        0.        ],\n",
              "       [0.        , 0.        , 0.        , 0.        , 0.        ,\n",
              "        0.9828251 ]])"
            ]
          },
          "metadata": {},
          "execution_count": 11
        }
      ]
    },
    {
      "cell_type": "markdown",
      "source": [
        "Задание 3.\n",
        "\n",
        "Далее давайте представим изображения в виде матриц и также определим их свойства. Для первых  цифр (от 0 до 9) из тестовой базы рукописных цифр (MNIST) определить какая из этих цифр имеет максимальный ранг?"
      ],
      "metadata": {
        "id": "FvjLQX2iOQr6"
      }
    },
    {
      "cell_type": "code",
      "source": [
        "import numpy as np\n",
        "from sklearn.datasets import load_digits\n",
        "import matplotlib.pyplot as plt\n",
        "digits = load_digits()"
      ],
      "metadata": {
        "id": "qwQvzSqOORyK"
      },
      "execution_count": 12,
      "outputs": []
    },
    {
      "cell_type": "code",
      "source": [
        "plt.gray();\n",
        "plt.matshow(digits.images[0]);\n",
        "plt.show()"
      ],
      "metadata": {
        "colab": {
          "base_uri": "https://localhost:8080/",
          "height": 292
        },
        "id": "ej_Pr5RrOYcm",
        "outputId": "90063091-ed4f-45b2-d27a-b49ad699da01"
      },
      "execution_count": 13,
      "outputs": [
        {
          "output_type": "display_data",
          "data": {
            "text/plain": [
              "<Figure size 432x288 with 0 Axes>"
            ]
          },
          "metadata": {}
        },
        {
          "output_type": "display_data",
          "data": {
            "image/png": "[encoded data removed]",
            "text/plain": [
              "<Figure size 288x288 with 1 Axes>"
            ]
          },
          "metadata": {
            "needs_background": "light"
          }
        }
      ]
    },
    {
      "cell_type": "code",
      "source": [
        "matrix = digits.images[0]\n",
        "matrix"
      ],
      "metadata": {
        "colab": {
          "base_uri": "https://localhost:8080/"
        },
        "id": "WlPqDSZmOh2Y",
        "outputId": "61a67505-b2f2-488c-9ba4-f38329c2c1e8"
      },
      "execution_count": 14,
      "outputs": [
        {
          "output_type": "execute_result",
          "data": {
            "text/plain": [
              "array([[ 0.,  0.,  5., 13.,  9.,  1.,  0.,  0.],\n",
              "       [ 0.,  0., 13., 15., 10., 15.,  5.,  0.],\n",
              "       [ 0.,  3., 15.,  2.,  0., 11.,  8.,  0.],\n",
              "       [ 0.,  4., 12.,  0.,  0.,  8.,  8.,  0.],\n",
              "       [ 0.,  5.,  8.,  0.,  0.,  9.,  8.,  0.],\n",
              "       [ 0.,  4., 11.,  0.,  1., 12.,  7.,  0.],\n",
              "       [ 0.,  2., 14.,  5., 10., 12.,  0.,  0.],\n",
              "       [ 0.,  0.,  6., 13., 10.,  0.,  0.,  0.]])"
            ]
          },
          "metadata": {},
          "execution_count": 14
        }
      ]
    },
    {
      "cell_type": "code",
      "source": [
        "for i in range(0,10):\n",
        "  matrix = digits.images[i]\n",
        "  b = np.linalg.matrix_rank(matrix)\n",
        "  print('цифра', i,'имеет ранг', b)"
      ],
      "metadata": {
        "colab": {
          "base_uri": "https://localhost:8080/"
        },
        "id": "CKfhWCsb6kMB",
        "outputId": "f43edb47-91d8-4518-f2b8-ba2fb84ba982"
      },
      "execution_count": 15,
      "outputs": [
        {
          "output_type": "stream",
          "name": "stdout",
          "text": [
            "цифра 0 имеет ранг 6\n",
            "цифра 1 имеет ранг 5\n",
            "цифра 2 имеет ранг 6\n",
            "цифра 3 имеет ранг 6\n",
            "цифра 4 имеет ранг 6\n",
            "цифра 5 имеет ранг 5\n",
            "цифра 6 имеет ранг 5\n",
            "цифра 7 имеет ранг 7\n",
            "цифра 8 имеет ранг 6\n",
            "цифра 9 имеет ранг 6\n"
          ]
        }
      ]
    },
    {
      "cell_type": "code",
      "source": [
        "cort = {}\n",
        "for i in range(10):\n",
        " matrix = digits.images[i]\n",
        " b = np.linalg.matrix_rank(matrix)\n",
        " cort[i] = b\n",
        "print(cort)\n",
        "print('\\nцифра', max(cort, key=cort.get),'имеет максимальный ранг')"
      ],
      "metadata": {
        "colab": {
          "base_uri": "https://localhost:8080/"
        },
        "id": "qxP5guCL31pp",
        "outputId": "2d5cb0f0-f36e-4ea0-cd8b-d90c0d9a3165"
      },
      "execution_count": 18,
      "outputs": [
        {
          "output_type": "stream",
          "name": "stdout",
          "text": [
            "{0: 6, 1: 5, 2: 6, 3: 6, 4: 6, 5: 5, 6: 5, 7: 7, 8: 6, 9: 6}\n",
            "\n",
            "цифра 7 имеет максимальный ранг\n"
          ]
        }
      ]
    },
    {
      "cell_type": "markdown",
      "source": [
        "Задание 4.\n",
        "\n",
        "Для первых  цифр (от 0 до 9) из тестовой базы рукописных цифр (MNIST) найдите все собственные числа. Для каких цифр все собственные значения не являются комплексными? "
      ],
      "metadata": {
        "id": "ho23LUuN2GIw"
      }
    },
    {
      "cell_type": "code",
      "source": [
        "super_list = []\n",
        "for i in range(9):\n",
        " matrix = digits.images[i]\n",
        " b = np.linalg.eigvals(matrix)\n",
        " print(i,':\\n',b)\n",
        " f = b.tolist()\n",
        " if any(type(num) != complex for num in f):\n",
        "   super_list.append(i)\n",
        "print('\\n\\nДля цифр', super_list, 'все собственные числа не являются комплексными')\n",
        "  "
      ],
      "metadata": {
        "colab": {
          "base_uri": "https://localhost:8080/"
        },
        "id": "6ARiHbyD2S7S",
        "outputId": "f7fb4b69-111c-407a-baca-efbb18049c14"
      },
      "execution_count": 19,
      "outputs": [
        {
          "output_type": "stream",
          "name": "stdout",
          "text": [
            "0 :\n",
            " [  0.           0.          38.87795499  -3.63459035  -0.73101\n",
            "   3.91352574   2.68851616 -14.11439655]\n",
            "1 :\n",
            " [ 0.        +0.j          0.        +0.j          0.        +0.j\n",
            " 43.90876882+0.j         -2.81320584+5.92806111j -2.81320584-5.92806111j\n",
            "  1.35882143+0.32955102j  1.35882143-0.32955102j]\n",
            "2 :\n",
            " [  0.           0.           5.          39.6980372  -18.4455357\n",
            "  -4.77732707   8.20786562   4.31695994]\n",
            "3 :\n",
            " [ 0.        +0.j          0.        +0.j         26.78722854+0.j\n",
            " -4.6394655 +0.j          0.69927242+0.j         11.54360992+6.68082411j\n",
            " 11.54360992-6.68082411j  9.0657447 +0.j        ]\n",
            "4 :\n",
            " [  0.        +0.j           0.        +0.j\n",
            "  42.31646853+0.j         -16.51428562+0.j\n",
            "   2.74751936+8.20271632j   2.74751936-8.20271632j\n",
            "  -1.03051134+0.j           1.73328971+0.j        ]\n",
            "5 :\n",
            " [ 0.        +0.j          0.        +0.j          0.        +0.j\n",
            " 37.46865411+0.j         19.99538181+0.j         -2.16232674+0.79050023j\n",
            " -2.16232674-0.79050023j  2.86061757+0.j        ]\n",
            "6 :\n",
            " [ 0.          0.          0.         30.23327329 20.52704925 -2.74115196\n",
            "  5.8593327   3.12149672]\n",
            "7 :\n",
            " [  0.        +0.j           0.        +0.j\n",
            "  38.91161854+0.j         -13.97150918+0.j\n",
            "   6.08033452+0.j          -1.23858742+6.12713731j\n",
            "  -1.23858742-6.12713731j  -5.54326904+0.j        ]\n",
            "8 :\n",
            " [ 0.        +0.j          0.        +0.j         44.56329631+0.j\n",
            " 18.3859097 +0.j         -1.71753054+6.38032702j -1.71753054-6.38032702j\n",
            "  4.59692012+0.j         -2.11106505+0.j        ]\n",
            "\n",
            "\n",
            "Для цифр [0, 2, 6] все собственные числа не являются комплексными\n"
          ]
        }
      ]
    }
  ]
}