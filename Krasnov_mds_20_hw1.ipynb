{
  "nbformat": 4,
  "nbformat_minor": 0,
  "metadata": {
    "colab": {
      "name": "Krasnov_mds-20_hw1.ipynb",
      "provenance": []
    },
    "kernelspec": {
      "name": "python3",
      "display_name": "Python 3"
    },
    "language_info": {
      "name": "python"
    }
  },
  "cells": [
    {
      "cell_type": "code",
      "execution_count": 34,
      "metadata": {
        "id": "5fkgZkAnfPHk"
      },
      "outputs": [],
      "source": [
        "import numpy as np"
      ]
    },
    {
      "cell_type": "markdown",
      "source": [
        "Задание 1. \n",
        "Представить фильмы в виде бинарных векторов (numpy array) используюя следующие признаки:\n",
        "\n",
        "[Комедия, Боевик, Исторический, Бред Питт, Бенедикт Камбербэтч, Квентин Тарантино]"
      ],
      "metadata": {
        "id": "51aSabZsEMs_"
      }
    },
    {
      "cell_type": "code",
      "source": [
        "v1 = np.array([0, 0, 1, 0, 1, 0]) #Игра в имитацию\n",
        "v2 = np.array([0, 1, 1, 1, 0, 0]) #Ярость\n",
        "v3 = np.array([0, 0, 1, 1, 0, 0]) #12 лет рабства\n",
        "v4 = np.array([1, 0, 0, 1, 0, 1]) #Однажды в Голливуде"
      ],
      "metadata": {
        "id": "Fw0DLUgdfUl2"
      },
      "execution_count": 35,
      "outputs": []
    },
    {
      "cell_type": "markdown",
      "source": [
        "Задание 2.\n",
        "Вычислить Евклидову норму каждого из векторов, полученных в Задании 1."
      ],
      "metadata": {
        "id": "K2iSarv3ETzX"
      }
    },
    {
      "cell_type": "code",
      "source": [
        "np.linalg.norm(v1)"
      ],
      "metadata": {
        "colab": {
          "base_uri": "https://localhost:8080/"
        },
        "id": "lVAAwn-ChGvk",
        "outputId": "52e5fd1e-f867-4358-b3ba-b6f514dd8417"
      },
      "execution_count": 36,
      "outputs": [
        {
          "output_type": "execute_result",
          "data": {
            "text/plain": [
              "1.4142135623730951"
            ]
          },
          "metadata": {},
          "execution_count": 36
        }
      ]
    },
    {
      "cell_type": "code",
      "source": [
        "np.linalg.norm(v2)"
      ],
      "metadata": {
        "colab": {
          "base_uri": "https://localhost:8080/"
        },
        "id": "6HAaG-5RhMdm",
        "outputId": "1da4ff4c-a366-4a0c-a3b6-1d3ab1d8304b"
      },
      "execution_count": 37,
      "outputs": [
        {
          "output_type": "execute_result",
          "data": {
            "text/plain": [
              "1.7320508075688772"
            ]
          },
          "metadata": {},
          "execution_count": 37
        }
      ]
    },
    {
      "cell_type": "code",
      "source": [
        "np.linalg.norm(v3)"
      ],
      "metadata": {
        "colab": {
          "base_uri": "https://localhost:8080/"
        },
        "id": "IQlKT-DIhQQ6",
        "outputId": "21242dce-80e6-4267-96fe-1dc5c98e4f15"
      },
      "execution_count": 38,
      "outputs": [
        {
          "output_type": "execute_result",
          "data": {
            "text/plain": [
              "1.4142135623730951"
            ]
          },
          "metadata": {},
          "execution_count": 38
        }
      ]
    },
    {
      "cell_type": "code",
      "source": [
        "np.linalg.norm(v4)"
      ],
      "metadata": {
        "colab": {
          "base_uri": "https://localhost:8080/"
        },
        "id": "6d-FSuePhTbV",
        "outputId": "20ae4fe0-cf26-4cdc-991a-eb8f5435a49c"
      },
      "execution_count": 39,
      "outputs": [
        {
          "output_type": "execute_result",
          "data": {
            "text/plain": [
              "1.7320508075688772"
            ]
          },
          "metadata": {},
          "execution_count": 39
        }
      ]
    },
    {
      "cell_type": "markdown",
      "source": [
        "Задание 3.\n",
        "Найти угол между векторами-фильмами \"Ярость\" и \"12 лет рабства\". Результатом будет являться косинусная мера, которую можно использовать для определения похожести векторов."
      ],
      "metadata": {
        "id": "wqL6MOPMEed6"
      }
    },
    {
      "cell_type": "code",
      "source": [
        "np.dot(v2, v3) / (np.linalg.norm(v2) * np.linalg.norm(v3)) #косинус угла между векторами"
      ],
      "metadata": {
        "colab": {
          "base_uri": "https://localhost:8080/"
        },
        "id": "mJxa0g_Jhy2a",
        "outputId": "4f4c2aec-553d-40f2-fc70-bc071c2b8464"
      },
      "execution_count": 40,
      "outputs": [
        {
          "output_type": "execute_result",
          "data": {
            "text/plain": [
              "0.8164965809277259"
            ]
          },
          "metadata": {},
          "execution_count": 40
        }
      ]
    },
    {
      "cell_type": "code",
      "source": [
        "np.arccos(np.dot(v2, v3) / (np.linalg.norm(v2) * np.linalg.norm(v3))) #arccos"
      ],
      "metadata": {
        "colab": {
          "base_uri": "https://localhost:8080/"
        },
        "id": "kevP7xdhZPZ3",
        "outputId": "baed2b94-ed73-44b6-b6b9-57d0f704541e"
      },
      "execution_count": 41,
      "outputs": [
        {
          "output_type": "execute_result",
          "data": {
            "text/plain": [
              "0.6154797086703875"
            ]
          },
          "metadata": {},
          "execution_count": 41
        }
      ]
    },
    {
      "cell_type": "code",
      "source": [
        "np.rad2deg(np.arccos(np.dot(v2, v3) / (np.linalg.norm(v2) * np.linalg.norm(v3)))) #величина угла в градусах"
      ],
      "metadata": {
        "colab": {
          "base_uri": "https://localhost:8080/"
        },
        "id": "FQHfy98ZbF1t",
        "outputId": "3842484e-c45d-4365-afb3-980bcd628cfa"
      },
      "execution_count": 42,
      "outputs": [
        {
          "output_type": "execute_result",
          "data": {
            "text/plain": [
              "35.26438968275466"
            ]
          },
          "metadata": {},
          "execution_count": 42
        }
      ]
    },
    {
      "cell_type": "markdown",
      "source": [
        "Задание 4.\n",
        "Объединить векторы, полученные в Задании 1 в матрицу, где каждый вектор является строкой матрицы. Полученную матрицу умножить на вектор [1,2,3,4]"
      ],
      "metadata": {
        "id": "0S7OrZQVEYBE"
      }
    },
    {
      "cell_type": "code",
      "source": [
        "A1 = np.array([[0, 0, 1, 0, 1, 0], [0, 1, 1, 1, 0, 0], [0, 0, 1, 1, 0, 0], [1, 0, 0, 1, 0, 1]])\n",
        "A1"
      ],
      "metadata": {
        "colab": {
          "base_uri": "https://localhost:8080/"
        },
        "id": "jEwni7o8e2-L",
        "outputId": "607f1720-44dd-40ec-ee56-a98a747d83f8"
      },
      "execution_count": 43,
      "outputs": [
        {
          "output_type": "execute_result",
          "data": {
            "text/plain": [
              "array([[0, 0, 1, 0, 1, 0],\n",
              "       [0, 1, 1, 1, 0, 0],\n",
              "       [0, 0, 1, 1, 0, 0],\n",
              "       [1, 0, 0, 1, 0, 1]])"
            ]
          },
          "metadata": {},
          "execution_count": 43
        }
      ]
    },
    {
      "cell_type": "code",
      "source": [
        "v5 = np.array([1, 2, 3, 4])\n",
        "v5"
      ],
      "metadata": {
        "colab": {
          "base_uri": "https://localhost:8080/"
        },
        "id": "1rh83MyPh6OJ",
        "outputId": "b73d5aba-ed1c-4a0e-cd30-4a25de62251d"
      },
      "execution_count": 44,
      "outputs": [
        {
          "output_type": "execute_result",
          "data": {
            "text/plain": [
              "array([1, 2, 3, 4])"
            ]
          },
          "metadata": {},
          "execution_count": 44
        }
      ]
    },
    {
      "cell_type": "code",
      "source": [
        "v6 = v5[np.newaxis, :].T #транспонируем вектор\n",
        "v6"
      ],
      "metadata": {
        "colab": {
          "base_uri": "https://localhost:8080/"
        },
        "id": "mmBMvbrQiKMR",
        "outputId": "1f5a5824-2fa1-4ea0-e6eb-7c7b65117c97"
      },
      "execution_count": 45,
      "outputs": [
        {
          "output_type": "execute_result",
          "data": {
            "text/plain": [
              "array([[1],\n",
              "       [2],\n",
              "       [3],\n",
              "       [4]])"
            ]
          },
          "metadata": {},
          "execution_count": 45
        }
      ]
    },
    {
      "cell_type": "code",
      "source": [
        "A1 * v6 #результат умножения"
      ],
      "metadata": {
        "colab": {
          "base_uri": "https://localhost:8080/"
        },
        "id": "4v-SnMXoiRe7",
        "outputId": "da97b1ea-d8cd-43d5-f913-9f6317064ac1"
      },
      "execution_count": 46,
      "outputs": [
        {
          "output_type": "execute_result",
          "data": {
            "text/plain": [
              "array([[0, 0, 1, 0, 1, 0],\n",
              "       [0, 2, 2, 2, 0, 0],\n",
              "       [0, 0, 3, 3, 0, 0],\n",
              "       [4, 0, 0, 4, 0, 4]])"
            ]
          },
          "metadata": {},
          "execution_count": 46
        }
      ]
    },
    {
      "cell_type": "markdown",
      "source": [
        "Задание 5.\n",
        "Вычислить на бумаге и с помощью Python значение первой и второй производной для функции 3*x*(x**2 + x)**3 в точке x = 1"
      ],
      "metadata": {
        "id": "PQz7-5puEpK8"
      }
    },
    {
      "cell_type": "code",
      "source": [
        "import sympy as sym"
      ],
      "metadata": {
        "id": "xaNy-Hp9_mJf"
      },
      "execution_count": 47,
      "outputs": []
    },
    {
      "cell_type": "code",
      "source": [
        "x = sym.Symbol('x')"
      ],
      "metadata": {
        "id": "b89T_eEM_tw2"
      },
      "execution_count": 48,
      "outputs": []
    },
    {
      "cell_type": "code",
      "source": [
        "3*x*(x**2 + x)**3"
      ],
      "metadata": {
        "colab": {
          "base_uri": "https://localhost:8080/",
          "height": 41
        },
        "id": "6tfCWGFcAIUx",
        "outputId": "561ab146-1586-4fc8-9a71-e895463e974f"
      },
      "execution_count": 49,
      "outputs": [
        {
          "output_type": "execute_result",
          "data": {
            "text/latex": "$\\displaystyle 3 x \\left(x^{2} + x\\right)^{3}$",
            "text/plain": [
              "3*x*(x**2 + x)**3"
            ]
          },
          "metadata": {},
          "execution_count": 49
        }
      ]
    },
    {
      "cell_type": "code",
      "source": [
        "res = sym.diff((3*x*(x**2 + x)**3), x) #первая производная\n",
        "res"
      ],
      "metadata": {
        "colab": {
          "base_uri": "https://localhost:8080/",
          "height": 41
        },
        "id": "Ha6uBleuAljE",
        "outputId": "60c1a8cc-2069-40e1-ba06-773a824a2773"
      },
      "execution_count": 50,
      "outputs": [
        {
          "output_type": "execute_result",
          "data": {
            "text/latex": "$\\displaystyle 3 x \\left(6 x + 3\\right) \\left(x^{2} + x\\right)^{2} + 3 \\left(x^{2} + x\\right)^{3}$",
            "text/plain": [
              "3*x*(6*x + 3)*(x**2 + x)**2 + 3*(x**2 + x)**3"
            ]
          },
          "metadata": {},
          "execution_count": 50
        }
      ]
    },
    {
      "cell_type": "code",
      "source": [
        "res.subs(x, 1) #значение первой производной в точке х=1"
      ],
      "metadata": {
        "colab": {
          "base_uri": "https://localhost:8080/",
          "height": 37
        },
        "id": "HbTlGwN3A1Zf",
        "outputId": "19c99aa8-dc1a-46ce-9101-e7cfa787d9ec"
      },
      "execution_count": 51,
      "outputs": [
        {
          "output_type": "execute_result",
          "data": {
            "text/latex": "$\\displaystyle 132$",
            "text/plain": [
              "132"
            ]
          },
          "metadata": {},
          "execution_count": 51
        }
      ]
    },
    {
      "cell_type": "code",
      "source": [
        "res1 = sym.diff(res, x) #вторая производная\n",
        "res1"
      ],
      "metadata": {
        "colab": {
          "base_uri": "https://localhost:8080/",
          "height": 41
        },
        "id": "Wb7bwfgZDoA3",
        "outputId": "6c3a58f3-d680-43ac-e186-3612ba407820"
      },
      "execution_count": 52,
      "outputs": [
        {
          "output_type": "execute_result",
          "data": {
            "text/latex": "$\\displaystyle 3 x \\left(4 x + 2\\right) \\left(6 x + 3\\right) \\left(x^{2} + x\\right) + 18 x \\left(x^{2} + x\\right)^{2} + 6 \\left(6 x + 3\\right) \\left(x^{2} + x\\right)^{2}$",
            "text/plain": [
              "3*x*(4*x + 2)*(6*x + 3)*(x**2 + x) + 18*x*(x**2 + x)**2 + 6*(6*x + 3)*(x**2 + x)**2"
            ]
          },
          "metadata": {},
          "execution_count": 52
        }
      ]
    },
    {
      "cell_type": "code",
      "source": [
        "res1.subs(x, 1) #значение второй производной в точке х=1"
      ],
      "metadata": {
        "colab": {
          "base_uri": "https://localhost:8080/",
          "height": 37
        },
        "id": "gJ7Rjm_iDsFg",
        "outputId": "84bb236e-419e-4122-8461-dba80cecf273"
      },
      "execution_count": 53,
      "outputs": [
        {
          "output_type": "execute_result",
          "data": {
            "text/latex": "$\\displaystyle 612$",
            "text/plain": [
              "612"
            ]
          },
          "metadata": {},
          "execution_count": 53
        }
      ]
    }
  ]
}